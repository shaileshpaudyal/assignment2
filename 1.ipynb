{
 "cells": [
  {
   "cell_type": "code",
   "execution_count": 23,
   "metadata": {},
   "outputs": [
    {
     "name": "stdout",
     "output_type": "stream",
     "text": [
      "hello world\n",
      "9.0\n"
     ]
    }
   ],
   "source": [
    "def helloprinter(text):\n",
    "\tprint(text)\n",
    "    \n",
    "def multiplier():\n",
    "\tnum1 = float(input('Enter number 1: '))\n",
    "\tnum2 = float(input('Enter number 2: '))\n",
    "\tprod = num1*num2\n",
    "\treturn prod\n",
    "\n",
    "def prodprinter():\n",
    "    prod= multiplier()\n",
    "    print(prod)\n",
    "    \n",
    "helloprinter(\"hello world\")\n",
    "\n",
    "multiplier()\n",
    "\n",
    "prodprinter()"
   ]
  },
  {
   "cell_type": "code",
   "execution_count": 18,
   "metadata": {},
   "outputs": [
    {
     "data": {
      "text/plain": [
       "8.0"
      ]
     },
     "execution_count": 18,
     "metadata": {},
     "output_type": "execute_result"
    }
   ],
   "source": [
    "\n"
   ]
  },
  {
   "cell_type": "markdown",
   "metadata": {},
   "source": []
  }
 ],
 "metadata": {
  "kernelspec": {
   "display_name": "Python 3",
   "language": "python",
   "name": "python3"
  },
  "language_info": {
   "codemirror_mode": {
    "name": "ipython",
    "version": 3
   },
   "file_extension": ".py",
   "mimetype": "text/x-python",
   "name": "python",
   "nbconvert_exporter": "python",
   "pygments_lexer": "ipython3",
   "version": "3.6.5"
  }
 },
 "nbformat": 4,
 "nbformat_minor": 2
}
